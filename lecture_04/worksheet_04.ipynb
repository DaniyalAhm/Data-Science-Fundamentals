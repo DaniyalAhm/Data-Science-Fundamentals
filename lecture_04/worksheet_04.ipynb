{
 "cells": [
  {
   "attachments": {},
   "cell_type": "markdown",
   "metadata": {},
   "source": [
    "# Worksheet 04\n",
    "\n",
    "Name:  Daniyal\n",
    "UID:  Ahmed\n",
    "\n",
    "### Topics\n",
    "\n",
    "- Distance & Similarity"
   ]
  },
  {
   "cell_type": "markdown",
   "metadata": {},
   "source": [
    "### Distance & Similarity\n",
    "\n",
    "#### Part 1\n",
    "\n",
    "a) In the minkowski distance, describe what the parameters p and d are."
   ]
  },
  {
   "cell_type": "markdown",
   "metadata": {},
   "source": []
  },
  {
   "cell_type": "markdown",
   "metadata": {},
   "source": [
    "b) In your own words describe the difference between the Euclidean distance and the Manhattan distance."
   ]
  },
  {
   "cell_type": "markdown",
   "metadata": {},
   "source": []
  },
  {
   "attachments": {},
   "cell_type": "markdown",
   "metadata": {},
   "source": [
    "Consider A = (0, 0) and B = (1, 1). When:\n",
    "\n",
    "- p = 1, d(A, B) = 2\n",
    "- p = 2, d(A, B) = $\\sqrt{2} = 1.41$\n",
    "- p = 3, d(A, B) = $2^{1/3} = 1.26$\n",
    "- p = 4, d(A, B) = $2^{1/4} = 1.19$\n",
    "\n",
    "c) Describe what you think distance would look like when p is very large."
   ]
  },
  {
   "cell_type": "markdown",
   "metadata": {},
   "source": []
  },
  {
   "cell_type": "markdown",
   "metadata": {},
   "source": [
    "d) Is the minkowski distance still a distance function when p < 1? Expain why / why not."
   ]
  },
  {
   "cell_type": "markdown",
   "metadata": {},
   "source": []
  },
  {
   "cell_type": "markdown",
   "metadata": {},
   "source": [
    "e) when would you use cosine similarity over the euclidan distance?"
   ]
  },
  {
   "cell_type": "markdown",
   "metadata": {},
   "source": []
  },
  {
   "cell_type": "markdown",
   "metadata": {},
   "source": [
    "f) what does the jaccard distance account for that the manhattan distance doesn't?"
   ]
  },
  {
   "cell_type": "markdown",
   "metadata": {},
   "source": []
  },
  {
   "attachments": {},
   "cell_type": "markdown",
   "metadata": {},
   "source": [
    "#### Part 2\n",
    "\n",
    "Consider the following two sentences:"
   ]
  },
  {
   "cell_type": "code",
   "execution_count": 2,
   "metadata": {},
   "outputs": [],
   "source": [
    "s1 = \"hello my name is Alice\"  \n",
    "s2 = \"hello my name is Bob\""
   ]
  },
  {
   "cell_type": "markdown",
   "metadata": {},
   "source": [
    "using the union of words from both sentences, we can represent each sentence as a vector. Each element of the vector represents the presence or absence of the word at that index.\n",
    "\n",
    "In this example, the union of words is (\"hello\", \"my\", \"name\", \"is\", \"Alice\", \"Bob\") so we can represent the above sentences as such:"
   ]
  },
  {
   "cell_type": "code",
   "execution_count": 3,
   "metadata": {},
   "outputs": [],
   "source": [
    "v1 = [1,    1, 1,   1, 1,    0]\n",
    "#     hello my name is Alice\n",
    "v2 = [1,    1, 1,   1, 0, 1]\n",
    "#     hello my name is    Bob"
   ]
  },
  {
   "attachments": {},
   "cell_type": "markdown",
   "metadata": {},
   "source": [
    "Programmatically, we can do the following:"
   ]
  },
  {
   "cell_type": "code",
   "execution_count": 55,
   "metadata": {},
   "outputs": [
    {
     "name": "stdout",
     "output_type": "stream",
     "text": [
      "['hello my name is Alice', 'hello my name is Bob']\n",
      "['is', 'my', 'hello', 'Alice', 'name', 'Bob']\n",
      "[1, 1, 1, 1, 1, 0]\n"
     ]
    }
   ],
   "source": [
    "corpus = [s1, s2]\n",
    "all_words = list(set([item for x in corpus for item in x.split()]))\n",
    "print(all_words)\n",
    "v1 = [1 if x in s1 else 0 for x in all_words]\n",
    "print(v1)"
   ]
  },
  {
   "cell_type": "markdown",
   "metadata": {},
   "source": [
    "Let's add a new sentence to our corpus:"
   ]
  },
  {
   "cell_type": "code",
   "execution_count": 5,
   "metadata": {},
   "outputs": [],
   "source": [
    "s3 = \"hi my name is Claude\"\n",
    "corpus.append(s3)"
   ]
  },
  {
   "cell_type": "markdown",
   "metadata": {},
   "source": [
    "a) What is the new union of words used to represent s1, s2, and s3?"
   ]
  },
  {
   "cell_type": "code",
   "execution_count": 12,
   "metadata": {},
   "outputs": [
    {
     "name": "stdout",
     "output_type": "stream",
     "text": [
      "['is', 'my', 'hello', 'Alice', 'name', 'Bob']\n"
     ]
    }
   ],
   "source": [
    "all_words = list(set([item for x in corpus for item in x.split()]))\n",
    "print(all_words)"
   ]
  },
  {
   "attachments": {},
   "cell_type": "markdown",
   "metadata": {},
   "source": [
    "b) Represent s1, s2, and s3 as vectors as above, using this new set of words."
   ]
  },
  {
   "cell_type": "code",
   "execution_count": 22,
   "metadata": {},
   "outputs": [
    {
     "name": "stdout",
     "output_type": "stream",
     "text": [
      "[1, 1, 1, 1, 1, 0] \n",
      " [1, 1, 1, 0, 1, 1] \n",
      " [1, 1, 0, 0, 1, 0]\n"
     ]
    }
   ],
   "source": [
    "v1 = [1 if x in s1 else 0 for x in all_words]\n",
    "v2 = [1 if x in s2 else 0 for x in all_words]\n",
    "v3 = [1 if x in s3 else 0 for x in all_words]\n",
    "print(v1, \"\\n\", v2, \"\\n\", v3  )"
   ]
  },
  {
   "cell_type": "markdown",
   "metadata": {},
   "source": [
    "c) Write a function that computes the manhattan distance between two vectors. Which pair of vectors are the most similar under that distance function?"
   ]
  },
  {
   "cell_type": "code",
   "execution_count": 27,
   "metadata": {},
   "outputs": [
    {
     "name": "stdout",
     "output_type": "stream",
     "text": [
      "('v1:', [1, 1, 1, 1, 1, 0], 'v2:', [1, 1, 1, 0, 1, 1])\n"
     ]
    }
   ],
   "source": [
    "def manhatten_distance(x,y):\n",
    "    if len(x)!= len(y):\n",
    "        raise ValueError(\"x and y must be the same dimensions\")\n",
    "    \n",
    "    res= 0\n",
    "    for i in range(len(x)):\n",
    "        res+= abs(x[i]-y[i]) \n",
    "\n",
    "    return res\n",
    "\n",
    "arr = [manhatten_distance(v1,v2), manhatten_distance(v1,v3), manhatten_distance(v2,v3)]\n",
    "minimum_dis =  lambda x:( 'v1:',v1,'v2:', v2 )if min(x)==x[0] else (('v1:',v1,'v3:',v3) if min(x)==x[1] else ('v2:' ,v2,'v3:', v3))\n",
    "print(minimum_dis(arr))\n"
   ]
  },
  {
   "cell_type": "markdown",
   "metadata": {},
   "source": []
  },
  {
   "cell_type": "markdown",
   "metadata": {},
   "source": [
    "d) Create a matrix of all these vectors (row major) and add the following sentences in vector form:\n",
    "\n",
    "- \"hi Alice\"\n",
    "- \"hello Claude\"\n",
    "- \"Bob my name is Claude\"\n",
    "- \"hi Claude my name is Alice\"\n",
    "- \"hello Bob\""
   ]
  },
  {
   "cell_type": "code",
   "execution_count": 64,
   "metadata": {},
   "outputs": [
    {
     "name": "stdout",
     "output_type": "stream",
     "text": [
      "[ 0 0 0 1 0 0 1 0 0 0 ]\n",
      "[ 0 0 0 0 1 0 0 1 0 0 ]\n",
      "[ 1 0 1 0 0 1 0 0 1 1 ]\n",
      "[ 1 0 1 1 0 1 1 0 1 0 ]\n",
      "[ 0 1 0 0 1 0 0 0 0 0 ]\n",
      "\n"
     ]
    }
   ],
   "source": [
    "s4 = 'hi Alice'\n",
    "s5= 'hello claude'\n",
    "s6 = 'Bob my name is Claude'\n",
    "s7 = 'hi Claude my name is Alice'\n",
    "s8 = 'hello bob'\n",
    "\n",
    "class Matrix: \n",
    "\n",
    "    def __init__(self):\n",
    "        self.Matrix = []\n",
    "        self.Corpus = []\n",
    "        self.union = []\n",
    "        self.correspondence = []\n",
    "\n",
    "    def add_row(self, s):\n",
    "       \n",
    "        self.Matrix.append([1 if x in s else 0 for x in self.union])\n",
    "        self.correspondence.append(s)\n",
    "\n",
    "    def __repr__(self):\n",
    "        string = \"\"\n",
    "\n",
    "        for i in range(len(self.Matrix)):\n",
    "            string+= \"[ \"\n",
    "            for j in range(len(self.Matrix[0])):\n",
    "                string+=str(self.Matrix[i][j])+\" \"\n",
    "\n",
    "            string+= \"]\\n\"\n",
    "\n",
    "        \n",
    "        return string\n",
    "    \n",
    "\n",
    "    def append_to_corpus(self, arr):\n",
    "        for x in arr:\n",
    "            self.Corpus.append(x)\n",
    "            \n",
    "        self.union = list(set([item for x in self.Corpus for item in x.split()]))\n",
    "    def numCols(self):\n",
    "        return(len(self.Matrix[0]))\n",
    "    \n",
    "    def numRows(self):\n",
    "        return(len(self.Matrix))\n",
    "    \n",
    "    def getMatrix(self):\n",
    "        return self.Matrix\n",
    "    \n",
    "    \n",
    "    def most_similar(self):\n",
    "        distance = float('inf') \n",
    "        indices = (0,0)\n",
    "        for i in range(len(self.Matrix)):\n",
    "            for j in range(len(self.Matrix)):\n",
    "                if(self.Matrix[i]==self.Matrix[j]):\n",
    "                    pass\n",
    "\n",
    "                else:\n",
    "                    if(distance> manhatten_distance(self.Matrix[i],self.Matrix[j])):\n",
    "                        distance = manhatten_distance(self.Matrix[i],self.Matrix[j])\n",
    "                        indices = (i,j)\n",
    "\n",
    "\n",
    "\n",
    "        return [self.correspondence[indices[0]],self.correspondence[indices[1]]]\n",
    "                    \n",
    "\n",
    "\n",
    "            \n",
    "\n",
    "\n",
    "Mat = Matrix()\n",
    "Mat.append_to_corpus([s4,s5,s6,s7,s8])\n",
    "Mat.add_row(s4)\n",
    "Mat.add_row(s5)\n",
    "Mat.add_row(s6)\n",
    "Mat.add_row(s7)\n",
    "Mat.add_row(s8)\n",
    "\n",
    "print(Mat)"
   ]
  },
  {
   "cell_type": "markdown",
   "metadata": {},
   "source": [
    "e) How many rows and columns does this matrix have?"
   ]
  },
  {
   "cell_type": "code",
   "execution_count": 44,
   "metadata": {},
   "outputs": [
    {
     "name": "stdout",
     "output_type": "stream",
     "text": [
      "Columns 10\n",
      "Rows: 5\n"
     ]
    }
   ],
   "source": [
    "print(f\"Columns {Mat.numCols()}\")\n",
    "print(f\"Rows: {Mat.numRows()}\")\n"
   ]
  },
  {
   "attachments": {},
   "cell_type": "markdown",
   "metadata": {},
   "source": [
    "f) When using the Manhattan distance, which two sentences are the most similar?"
   ]
  },
  {
   "cell_type": "code",
   "execution_count": 65,
   "metadata": {},
   "outputs": [
    {
     "name": "stdout",
     "output_type": "stream",
     "text": [
      "['hello claude', 'hello bob']\n"
     ]
    }
   ],
   "source": [
    "print(Mat.most_similar())\n"
   ]
  },
  {
   "cell_type": "markdown",
   "metadata": {},
   "source": [
    "#### Part 3 Challenge"
   ]
  },
  {
   "cell_type": "markdown",
   "metadata": {},
   "source": [
    "Given a set of graphs $\\mathcal{G}$, each graph $G \\in \\mathcal{G}$ is defined over the same set of nodes $V$. The graphs are represented by their adjacency matrices, which are 2D arrays where each element indicates whether a pair of nodes is connected by an edge.\n",
    "\n",
    "Your task is to compute the pairwise distances between these graphs based on a specific distance metric. The distance $d(G, G')$ between two graphs $G = (V, E)$ and $G' = (V, E')$ is defined as the sum of the number of edges in $G$ but not in $G'$, and the number of edges in $G'$ but not in $G$. Mathematically, this can be expressed as:\n",
    "\n",
    "$$\n",
    "d(G, G') = |E \\setminus E'| + |E' \\setminus E|.\n",
    "$$\n",
    "\n",
    "##### Requirements:\n",
    "1. **Input**: Should take a list of 2D numpy arrays as input. Each array represents the adjacency matrix of a graph.\n",
    "\n",
    "2. **Output**: Should output a pairwise distance matrix. If there are $n$ graphs in the input list, the output should be an $n \\times n$ matrix where the entry at position $(i, j)$ represents the distance between the $i^{th}$ and $j^{th}$ graph."
   ]
  },
  {
   "cell_type": "code",
   "execution_count": null,
   "metadata": {},
   "outputs": [],
   "source": [
    "import numpy as np\n",
    "\n",
    "def distance_between_graphs(arr):\n",
    "\n"
   ]
  }
 ],
 "metadata": {
  "kernelspec": {
   "display_name": "Python 3",
   "language": "python",
   "name": "python3"
  },
  "language_info": {
   "codemirror_mode": {
    "name": "ipython",
    "version": 3
   },
   "file_extension": ".py",
   "mimetype": "text/x-python",
   "name": "python",
   "nbconvert_exporter": "python",
   "pygments_lexer": "ipython3",
   "version": "3.10.11"
  },
  "orig_nbformat": 4,
  "vscode": {
   "interpreter": {
    "hash": "76ca05dc3ea24b2e3b98cdb7774adfbb40773424bf5109b477fd793f623715af"
   }
  }
 },
 "nbformat": 4,
 "nbformat_minor": 2
}
