{
 "cells": [
  {
   "attachments": {},
   "cell_type": "markdown",
   "metadata": {},
   "source": [
    "# Worksheet 04\n",
    "\n",
    "Name:  Daniyal Ahmed\n",
    "UID:  U11469883\n",
    "\n",
    "\n",
    "### Topics\n",
    "\n",
    "- Distance & Similarity"
   ]
  },
  {
   "cell_type": "markdown",
   "metadata": {},
   "source": [
    "### Distance & Similarity\n",
    "\n",
    "#### Part 1\n",
    "\n",
    "a) In the minkowski distance, describe what the parameters p and d are."
   ]
  },
  {
   "cell_type": "markdown",
   "metadata": {},
   "source": [
    "p is a parameter that when set to one represents that manhattan distance when set to two represents the Euclidean distance "
   ]
  },
  {
   "cell_type": "markdown",
   "metadata": {},
   "source": [
    "b) In your own words describe the difference between the Euclidean distance and the Manhattan distance."
   ]
  },
  {
   "cell_type": "markdown",
   "metadata": {},
   "source": [
    "The distance between two Points is the length of the line between the two points \n",
    "So for example if there are two points x and y, the best way to calculate the euclidean distance is by drawing a sort of right triangle between the two. Both points show have a diagonal line connecting the two representing the hypotenuse of our triangle. If you correctly calculate the hypotenuse that represents your Euclidean distance. Whereas Manhattan distance does not allow you to just draw a line across instead you can only travel up or across each block in the grid to get from x to y."
   ]
  },
  {
   "attachments": {},
   "cell_type": "markdown",
   "metadata": {},
   "source": [
    "Consider A = (0, 0) and B = (1, 1). When:\n",
    "\n",
    "- p = 1, d(A, B) = 2\n",
    "- p = 2, d(A, B) = $\\sqrt{2} = 1.41$\n",
    "- p = 3, d(A, B) = $2^{1/3} = 1.26$\n",
    "- p = 4, d(A, B) = $2^{1/4} = 1.19$\n",
    "\n",
    "c) Describe what you think distance would look like when p is very large."
   ]
  },
  {
   "cell_type": "markdown",
   "metadata": {},
   "source": [
    "I feel that the distance of the two will get closer and closer to 1, this is because I am thinking of calculas and think of the distance as a function where p gets closer to infinity the distance function starts to converge at a specific point. It cannot be zero because that would obviously just break the distance function"
   ]
  },
  {
   "cell_type": "markdown",
   "metadata": {},
   "source": [
    "d) Is the minkowski distance still a distance function when p < 1? Expain why / why not."
   ]
  },
  {
   "cell_type": "markdown",
   "metadata": {},
   "source": [
    "No, as it was proved by contradiction in lecture, as the 1/p in Minkowski will become over one while the ^P inside the summation will become below one, henceforth breaking the distance function"
   ]
  },
  {
   "cell_type": "markdown",
   "metadata": {},
   "source": [
    "e) when would you use cosine similarity over the euclidan distance?"
   ]
  },
  {
   "cell_type": "markdown",
   "metadata": {},
   "source": [
    "- Say you have two documents talking about the same topic, but one uses more words and is longer overall\n",
    "- Thus distance would show them farther apart and imply they are very different\n",
    "- Thus angle will show that the are still quite similar even though one is longer and the other is shorter"
   ]
  },
  {
   "cell_type": "markdown",
   "metadata": {},
   "source": [
    "f) what does the jaccard distance account for that the manhattan distance doesn't?"
   ]
  },
  {
   "cell_type": "markdown",
   "metadata": {},
   "source": [
    "If you have two documents but those two documents only differ in two words, all that the manhattan distance will tell you is 2, however now lets now you have two more documents that only have two words Manhatten distance will still tell you 2. The problem here is that the manhattan distance doesn't give a lot of information when trying to compare two documents. However the Jaccard distance is a one minus the ratio of the intersection of the two documents over the union of all the words in either document. Giving you a more realistic comparison between the two."
   ]
  },
  {
   "attachments": {},
   "cell_type": "markdown",
   "metadata": {},
   "source": [
    "#### Part 2\n",
    "\n",
    "Consider the following two sentences:"
   ]
  },
  {
   "cell_type": "code",
   "execution_count": 2,
   "metadata": {},
   "outputs": [],
   "source": [
    "s1 = \"hello my name is Alice\"  \n",
    "s2 = \"hello my name is Bob\""
   ]
  },
  {
   "cell_type": "markdown",
   "metadata": {},
   "source": [
    "using the union of words from both sentences, we can represent each sentence as a vector. Each element of the vector represents the presence or absence of the word at that index.\n",
    "\n",
    "In this example, the union of words is (\"hello\", \"my\", \"name\", \"is\", \"Alice\", \"Bob\") so we can represent the above sentences as such:"
   ]
  },
  {
   "cell_type": "code",
   "execution_count": 3,
   "metadata": {},
   "outputs": [],
   "source": [
    "v1 = [1,    1, 1,   1, 1,    0]\n",
    "#     hello my name is Alice\n",
    "v2 = [1,    1, 1,   1, 0, 1]\n",
    "#     hello my name is    Bob"
   ]
  },
  {
   "attachments": {},
   "cell_type": "markdown",
   "metadata": {},
   "source": [
    "Programmatically, we can do the following:"
   ]
  },
  {
   "cell_type": "code",
   "execution_count": 4,
   "metadata": {},
   "outputs": [
    {
     "name": "stdout",
     "output_type": "stream",
     "text": [
      "['Bob', 'my', 'name', 'Alice', 'hello', 'is']\n",
      "[0, 1, 1, 1, 1, 1]\n"
     ]
    }
   ],
   "source": [
    "corpus = [s1, s2]\n",
    "all_words = list(set([item for x in corpus for item in x.split()]))\n",
    "print(all_words)\n",
    "v1 = [1 if x in s1 else 0 for x in all_words]\n",
    "print(v1)"
   ]
  },
  {
   "cell_type": "markdown",
   "metadata": {},
   "source": [
    "Let's add a new sentence to our corpus:"
   ]
  },
  {
   "cell_type": "code",
   "execution_count": 5,
   "metadata": {},
   "outputs": [],
   "source": [
    "s3 = \"hi my name is Claude\"\n",
    "corpus.append(s3)"
   ]
  },
  {
   "cell_type": "markdown",
   "metadata": {},
   "source": [
    "a) What is the new union of words used to represent s1, s2, and s3?"
   ]
  },
  {
   "cell_type": "code",
   "execution_count": 6,
   "metadata": {},
   "outputs": [
    {
     "name": "stdout",
     "output_type": "stream",
     "text": [
      "['Bob', 'my', 'name', 'Alice', 'Claude', 'hello', 'is', 'hi']\n"
     ]
    }
   ],
   "source": [
    "all_words = list(set([item for x in corpus for item in x.split()]))\n",
    "#Basically we have to recaculate the the union set to account for our new addition into the\n",
    "#corpus\n",
    "\n",
    "\n",
    "print(all_words)"
   ]
  },
  {
   "attachments": {},
   "cell_type": "markdown",
   "metadata": {},
   "source": [
    "b) Represent s1, s2, and s3 as vectors as above, using this new set of words."
   ]
  },
  {
   "cell_type": "code",
   "execution_count": 7,
   "metadata": {},
   "outputs": [
    {
     "name": "stdout",
     "output_type": "stream",
     "text": [
      "[0, 1, 1, 1, 0, 1, 1, 0] \n",
      " [1, 1, 1, 0, 0, 1, 1, 0] \n",
      " [0, 1, 1, 0, 1, 0, 1, 1]\n"
     ]
    }
   ],
   "source": [
    "v1 = [1 if x in s1 else 0 for x in all_words]\n",
    "v2 = [1 if x in s2 else 0 for x in all_words]\n",
    "v3 = [1 if x in s3 else 0 for x in all_words]\n",
    "print(v1, \"\\n\", v2, \"\\n\", v3  )"
   ]
  },
  {
   "cell_type": "markdown",
   "metadata": {},
   "source": [
    "c) Write a function that computes the manhattan distance between two vectors. Which pair of vectors are the most similar under that distance function?"
   ]
  },
  {
   "cell_type": "code",
   "execution_count": 16,
   "metadata": {},
   "outputs": [
    {
     "name": "stdout",
     "output_type": "stream",
     "text": [
      "('v1:', [0, 1, 1, 1, 0, 1, 1, 0], 'v2:', [1, 1, 1, 0, 0, 1, 1, 0])\n"
     ]
    }
   ],
   "source": [
    "'''I simplified the formula from Minkowski since this question is purely asking\n",
    "about the manhatten distance'''\n",
    "\n",
    "\n",
    "def manhatten_distance(x,y):\n",
    "    if len(x)!= len(y):\n",
    "        raise ValueError(\"x and y must be the same dimensions\")\n",
    "    \n",
    "    res= 0\n",
    "    for i in range(len(x)):\n",
    "        res+= abs(x[i]-y[i]) \n",
    "\n",
    "    return res\n",
    "\n",
    "\n",
    "arr = [manhatten_distance(v1,v2), manhatten_distance(v1,v3), manhatten_distance(v2,v3)]\n",
    "\n",
    "minimum_dis =  lambda x:( 'v1:',v1,'v2:', v2 )if min(x)==x[0] else (('v1:',v1,'v3:',v3) if min(x)==x[1] else ('v2:' ,v2,'v3:', v3))\n",
    "print(minimum_dis(arr))\n"
   ]
  },
  {
   "cell_type": "markdown",
   "metadata": {},
   "source": []
  },
  {
   "cell_type": "markdown",
   "metadata": {},
   "source": [
    "d) Create a matrix of all these vectors (row major) and add the following sentences in vector form:\n",
    "\n",
    "- \"hi Alice\"\n",
    "- \"hello Claude\"\n",
    "- \"Bob my name is Claude\"\n",
    "- \"hi Claude my name is Alice\"\n",
    "- \"hello Bob\""
   ]
  },
  {
   "cell_type": "code",
   "execution_count": 14,
   "metadata": {},
   "outputs": [
    {
     "name": "stdout",
     "output_type": "stream",
     "text": [
      "[ 0 0 0 1 0 0 0 1 ]\n",
      "[ 0 0 0 0 0 1 0 0 ]\n",
      "[ 1 1 1 0 1 0 1 0 ]\n",
      "[ 0 1 1 1 1 0 1 1 ]\n",
      "[ 0 0 0 0 0 1 0 0 ]\n",
      "\n"
     ]
    }
   ],
   "source": [
    "s4 = 'hi Alice'\n",
    "s5= 'hello claude'\n",
    "s6 = 'Bob my name is Claude'\n",
    "s7 = 'hi Claude my name is Alice'\n",
    "s8 = 'hello bob'\n",
    "\n",
    "class Matrix: \n",
    "\n",
    "    def __init__(self,corpus, union):\n",
    "        #The Matrix itself is a list that will store lists\n",
    "        self.Matrix = []\n",
    "        #The Corpus was Just to account for the corresspondence\n",
    "        self.Corpus = corpus\n",
    "        #Union set of all the words in the corpus\n",
    "        self.union = union\n",
    "        #What vector corresponds to what sentence\n",
    "        self.correspondence = []\n",
    "\n",
    "    def add_row(self, s):\n",
    "        self.Matrix.append([1 if x in s else 0 for x in self.union])\n",
    "        #Every time we add a sentance vector to our matrix we append the sentence in the corresponding indices\n",
    "        self.correspondence.append(s)\n",
    "\n",
    "    #Simple print method\n",
    "    def __repr__(self):\n",
    "        string = \"\"\n",
    "\n",
    "        for i in range(len(self.Matrix)):\n",
    "            string+= \"[ \"\n",
    "            for j in range(len(self.Matrix[0])):\n",
    "                string+=str(self.Matrix[i][j])+\" \"\n",
    "\n",
    "            string+= \"]\\n\"\n",
    "\n",
    "        \n",
    "        return string\n",
    "    \n",
    "    #Dummy function for Testing\n",
    "    def append_to_corpus(self, arr):\n",
    "        for x in arr:\n",
    "            self.Corpus.append(x)\n",
    "        self.union = list(set([item for x in self.Corpus for item in x.split()]))\n",
    "\n",
    "    #a sort of get function for part e\n",
    "    def numCols(self):\n",
    "        return(len(self.Matrix[0]))\n",
    "    \n",
    "    #a sort of get function for part e\n",
    "    def numRows(self):\n",
    "        return(len(self.Matrix))\n",
    "    \n",
    "    #get function dummy function for debugging\n",
    "    def getMatrix(self):\n",
    "        return self.Matrix\n",
    "    \n",
    "    #For Part F\n",
    "    def most_similar(self):\n",
    "        #Set the distance to infinity\n",
    "        distance = float('inf') \n",
    "\n",
    "        #the indices for the two vectors\n",
    "        indices = (0,0)\n",
    "        #for some vector in the matrix\n",
    "        for i in range(len(self.Matrix)):\n",
    "            #For some other vector in the matrix\n",
    "            for j in range(len(self.Matrix)):\n",
    "                # We cannot compare the same vectors in the matrix\n",
    "                if(i==j):\n",
    "                    pass\n",
    "\n",
    "                else:\n",
    "                    #If we find a distance between two vectors that is smaller than any we have seen we can replace the distance and mark down the indices\n",
    "                    if(distance> manhatten_distance(self.Matrix[i],self.Matrix[j])):\n",
    "                        distance = manhatten_distance(self.Matrix[i],self.Matrix[j])\n",
    "                        indices = (i,j)\n",
    "\n",
    "        #We use our correspondence array to easily access the sentences \n",
    "        return [self.correspondence[indices[0]],self.correspondence[indices[1]]]\n",
    "                    \n",
    "\n",
    "\n",
    "            \n",
    "\n",
    "\n",
    "Mat = Matrix(corpus=corpus,union=all_words)\n",
    "\n",
    "\n",
    "Mat.add_row(s4)\n",
    "Mat.add_row(s5)\n",
    "Mat.add_row(s6)\n",
    "Mat.add_row(s7)\n",
    "Mat.add_row(s8)\n",
    "\n",
    "print(Mat)"
   ]
  },
  {
   "cell_type": "markdown",
   "metadata": {},
   "source": [
    "e) How many rows and columns does this matrix have?"
   ]
  },
  {
   "cell_type": "code",
   "execution_count": 15,
   "metadata": {},
   "outputs": [
    {
     "name": "stdout",
     "output_type": "stream",
     "text": [
      "Columns 8\n",
      "Rows: 5\n"
     ]
    },
    {
     "data": {
      "text/plain": [
       "'\\n\\n    #a sort of get function for part e\\n    def numCols(self):\\n        return(len(self.Matrix[0]))\\n    \\n    #a sort of get function for part e\\n    def numRows(self):\\n        return(len(self.Matrix))\\n\\n\\n\\n'"
      ]
     },
     "execution_count": 15,
     "metadata": {},
     "output_type": "execute_result"
    }
   ],
   "source": [
    "print(f\"Columns {Mat.numCols()}\")\n",
    "print(f\"Rows: {Mat.numRows()}\")\n",
    "\n",
    "'''\n",
    "\n",
    "    #a sort of get function for part e\n",
    "    def numCols(self):\n",
    "        return(len(self.Matrix[0]))\n",
    "    \n",
    "    #a sort of get function for part e\n",
    "    def numRows(self):\n",
    "        return(len(self.Matrix))\n",
    "\n",
    "\n",
    "\n",
    "'''\n",
    "\n"
   ]
  },
  {
   "attachments": {},
   "cell_type": "markdown",
   "metadata": {},
   "source": [
    "f) When using the Manhattan distance, which two sentences are the most similar?"
   ]
  },
  {
   "cell_type": "code",
   "execution_count": 11,
   "metadata": {},
   "outputs": [
    {
     "name": "stdout",
     "output_type": "stream",
     "text": [
      "['hello claude', 'hello bob']\n"
     ]
    },
    {
     "data": {
      "text/plain": [
       "\"    \\n    #For Part F\\n    def most_similar(self):\\n        #Set the distance to infinity\\n        distance = float('inf') \\n\\n        #the indices for the two vectors\\n        indices = (0,0)\\n        #for some vector in the matrix\\n        for i in range(len(self.Matrix)):\\n            #For some other vector in the matrix\\n            for j in range(len(self.Matrix)):\\n                # We cannot compare the same vectors in the matrix\\n                if(i==j):\\n                    pass\\n\\n                else:\\n                    #If we find a distance between two vectors that is smaller than any we have seen we can replace the distance and mark down the indices\\n                    if(distance> manhatten_distance(self.Matrix[i],self.Matrix[j])):\\n                        distance = manhatten_distance(self.Matrix[i],self.Matrix[j])\\n                        indices = (i,j)\\n\\n        #We use our correspondence array to easily access the sentences \\n        return [self.correspondence[indices[0]],self.correspondence[indices[1]]]\\n\""
      ]
     },
     "execution_count": 11,
     "metadata": {},
     "output_type": "execute_result"
    }
   ],
   "source": [
    "print(Mat.most_similar())\n",
    "\n",
    "#I did this more so in the matrix class for ease of use.\n",
    "'''    \n",
    "    #For Part F\n",
    "    def most_similar(self):\n",
    "        #Set the distance to infinity\n",
    "        distance = float('inf') \n",
    "\n",
    "        #the indices for the two vectors\n",
    "        indices = (0,0)\n",
    "        #for some vector in the matrix\n",
    "        for i in range(len(self.Matrix)):\n",
    "            #For some other vector in the matrix\n",
    "            for j in range(len(self.Matrix)):\n",
    "                # We cannot compare the same vectors in the matrix\n",
    "                if(i==j):\n",
    "                    pass\n",
    "\n",
    "                else:\n",
    "                    #If we find a distance between two vectors that is smaller than any we have seen we can replace the distance and mark down the indices\n",
    "                    if(distance> manhatten_distance(self.Matrix[i],self.Matrix[j])):\n",
    "                        distance = manhatten_distance(self.Matrix[i],self.Matrix[j])\n",
    "                        indices = (i,j)\n",
    "\n",
    "        #We use our correspondence array to easily access the sentences \n",
    "        return [self.correspondence[indices[0]],self.correspondence[indices[1]]]\n",
    "'''"
   ]
  },
  {
   "cell_type": "markdown",
   "metadata": {},
   "source": [
    "#### Part 3 Challenge"
   ]
  },
  {
   "cell_type": "markdown",
   "metadata": {},
   "source": [
    "Given a set of graphs $\\mathcal{G}$, each graph $G \\in \\mathcal{G}$ is defined over the same set of nodes $V$. The graphs are represented by their adjacency matrices, which are 2D arrays where each element indicates whether a pair of nodes is connected by an edge.\n",
    "\n",
    "Your task is to compute the pairwise distances between these graphs based on a specific distance metric. The distance $d(G, G')$ between two graphs $G = (V, E)$ and $G' = (V, E')$ is defined as the sum of the number of edges in $G$ but not in $G'$, and the number of edges in $G'$ but not in $G$. Mathematically, this can be expressed as:\n",
    "\n",
    "$$\n",
    "d(G, G') = |E \\setminus E'| + |E' \\setminus E|.\n",
    "$$\n",
    "\n",
    "##### Requirements:\n",
    "1. **Input**: Should take a list of 2D numpy arrays as input. Each array represents the adjacency matrix of a graph.\n",
    "\n",
    "2. **Output**: Should output a pairwise distance matrix. If there are $n$ graphs in the input list, the output should be an $n \\times n$ matrix where the entry at position $(i, j)$ represents the distance between the $i^{th}$ and $j^{th}$ graph."
   ]
  },
  {
   "cell_type": "code",
   "execution_count": 33,
   "metadata": {},
   "outputs": [
    {
     "name": "stdout",
     "output_type": "stream",
     "text": [
      "[[0 2 5 7 7]\n",
      " [2 0 3 7 7]\n",
      " [5 3 0 4 4]\n",
      " [7 7 4 0 2]\n",
      " [7 7 4 2 0]] \n",
      "\n",
      "[[0 2 5 7 7]\n",
      " [2 0 3 7 7]\n",
      " [5 3 0 4 4]\n",
      " [7 7 4 0 2]\n",
      " [7 7 4 2 0]]\n",
      "True\n"
     ]
    }
   ],
   "source": [
    "import numpy as np\n",
    "\n",
    "\n",
    "def distance_between_graphs(numpy_arrays):\n",
    "\n",
    "    #Make the pairwise distance matrix \n",
    "    result = [[0 for x in numpy_arrays] for y in numpy_arrays]\n",
    "\n",
    "    for  i in range(len(numpy_arrays)):\n",
    "        for j in range(len(numpy_arrays)):\n",
    "            #E being our first array\n",
    "            E = numpy_arrays[i]\n",
    "            #E prime being our second array coressponding to the formula\n",
    "            E_prime= numpy_arrays[j]\n",
    "\n",
    "\n",
    "            if(i==j):\n",
    "                pass\n",
    "\n",
    "            else:\n",
    "\n",
    "                '''\n",
    "                The equation of | E \\\\ E' | + |E' \\\\ E| is equal to the total number of edges they both have\n",
    "                in difference, this is because the | E \\\\ E' | represents the number of edges that G has that\n",
    "                G' does not, or hence the set of Unique edges. The same can be said for |E' \\\\ E| without loss of \n",
    "                Generality, thus the Set of unique edges of the two is equal the total number of edges that only one of them \n",
    "                as but not both. This is why we can use np.not_equal since the adjaceny matrices are represented with \n",
    "                either a 1 or a 0. Thus if the i and j are not equal that means they are unique to that specifc graph.\n",
    "                '''\n",
    "\n",
    "                result[i][j]= sum(sum(np.not_equal(E,E_prime))) \n",
    "\n",
    "\n",
    "    return np.array(result)\n"
   ]
  }
 ],
 "metadata": {
  "kernelspec": {
   "display_name": "Python 3",
   "language": "python",
   "name": "python3"
  },
  "language_info": {
   "codemirror_mode": {
    "name": "ipython",
    "version": 3
   },
   "file_extension": ".py",
   "mimetype": "text/x-python",
   "name": "python",
   "nbconvert_exporter": "python",
   "pygments_lexer": "ipython3",
   "version": "3.10.11"
  },
  "orig_nbformat": 4,
  "vscode": {
   "interpreter": {
    "hash": "76ca05dc3ea24b2e3b98cdb7774adfbb40773424bf5109b477fd793f623715af"
   }
  }
 },
 "nbformat": 4,
 "nbformat_minor": 2
}
