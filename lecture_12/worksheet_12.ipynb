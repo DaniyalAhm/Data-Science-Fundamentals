{
 "cells": [
  {
   "attachments": {},
   "cell_type": "markdown",
   "metadata": {},
   "source": [
    "# Worksheet 12\n",
    "\n",
    "Name:  Daniyal Ahmed\n",
    "UID: U11469883\n",
    "\n",
    "### Topics\n",
    "\n",
    "- Introduction to Classification\n",
    "- K Nearest Neighbors\n",
    "\n",
    "### Introduction to Classification\n",
    "\n",
    "a) For the following examples, say whether they are or aren't an example of classification.\n",
    "\n",
    "1. Predicting whether a student will be offered a job after graduating given their GPA.\n",
    "2. Predicting how long it will take (in number of months) for a student to be offered a job after graduating, given their GPA.\n",
    "3. Predicting the number of stars (1-5) a person will assign in their yelp review given the description they wrote in the review.\n",
    "4. Predicting the number of births occuring in a specified minute."
   ]
  },
  {
   "cell_type": "markdown",
   "metadata": {},
   "source": [
    "1 and 3 are classifcations since in number 3 the label can be the number of stars while in number 1 the labels can be whether they got the job or not."
   ]
  },
  {
   "cell_type": "markdown",
   "metadata": {},
   "source": [
    "b) Given a dataset, how would you set things up such that you can both learn a model and get an idea of how this model might perform on data it has never seen?"
   ]
  },
  {
   "cell_type": "markdown",
   "metadata": {},
   "source": [
    "You would use Instance-Based Classifiers on this model, since you can used stored data to see how the model reacts on unseen data"
   ]
  },
  {
   "cell_type": "markdown",
   "metadata": {},
   "source": [
    "c) In your own words, briefly explain:\n",
    "\n",
    "- underfitting\n",
    "- overfitting\n",
    "\n",
    "and what signs to look out for for each."
   ]
  },
  {
   "cell_type": "markdown",
   "metadata": {},
   "source": [
    "Underfitting the Dataset usually happens whens model has not analyzed the data enough or learned enough from a data. Basically when a model is underfitted it is not following the data set closely enough. While when a model is overfitted, it is following the data set too closely and not predicting what some labels can be rather just looking at the data set for any thing that looks similar enouugh. In conclusion Overfitting is when the model references the dataset too much but Underfitting is when it doesn't reference it enough"
   ]
  },
  {
   "cell_type": "markdown",
   "metadata": {},
   "source": [
    "### K Nearest Neighbors"
   ]
  },
  {
   "cell_type": "code",
   "execution_count": 3,
   "metadata": {},
   "outputs": [],
   "source": [
    "import numpy as np\n",
    "import matplotlib.pyplot as plt\n",
    "\n",
    "data = {\n",
    "    \"Attribute A\" : [3.5, 0, 1, 2.5, 2, 1.5, 2, 3.5, 1, 3, 2, 2, 2.5, 0.5, 0., 10],\n",
    "    \"Attribute B\" : [4, 1.5, 2, 1, 3.5, 2.5, 1, 0, 3, 1.5, 4, 2, 2.5, 0.5, 2.5, 10],\n",
    "    \"Class\" : [1, 0, 1, 0, 1, 0, 1, 0, 1, 0, 1, 0, 0, 1, 1, 0],\n",
    "}\n",
    "\n"
   ]
  },
  {
   "cell_type": "markdown",
   "metadata": {},
   "source": [
    "a) Plot the data in a 2D plot coloring each scatter point one of two colors depending on its corresponding class."
   ]
  },
  {
   "cell_type": "code",
   "execution_count": 4,
   "metadata": {},
   "outputs": [
    {
     "data": {
      "image/png": "[encoded data removed]",
      "text/plain": [
       "<Figure size 640x480 with 1 Axes>"
      ]
     },
     "metadata": {},
     "output_type": "display_data"
    }
   ],
   "source": [
    "colors = np.array([x for x in 'bgrcmyk'])\n",
    "plt.scatter(data[\"Attribute A\"], data[\"Attribute B\"], color=colors[data[\"Class\"]].tolist())\n",
    "plt.show()"
   ]
  },
  {
   "cell_type": "markdown",
   "metadata": {},
   "source": [
    "Outliers are points that lie far from the rest of the data. They are not necessarily invalid points however. Imagine sampling from a Normal Distribution with mean 10 and variance 1. You would expect most points you sample to be in the range [7, 13] but it's entirely possible to see 20 which, on average, should be very far from the rest of the points in the sample (unless we're VERY (un)lucky). These outliers can inhibit our ability to learn general patterns in the data since they are not representative of likely outcomes. They can still be useful in of themselves and can be analyzed in great depth depending on the problem at hand.\n",
    "\n",
    "b) Are there any points in the dataset that could be outliers? If so, please remove them from the dataset."
   ]
  },
  {
   "cell_type": "markdown",
   "metadata": {},
   "source": [
    "Yes there is one outlier in the data set is at point 10 10"
   ]
  },
  {
   "cell_type": "code",
   "execution_count": 5,
   "metadata": {},
   "outputs": [
    {
     "name": "stdout",
     "output_type": "stream",
     "text": [
      "{'Attribute A': [3.5, 0, 1, 2.5, 2, 1.5, 2, 3.5, 1, 3, 2, 2, 2.5, 0.5, 0.0], 'Attribute B': [4, 1.5, 2, 1, 3.5, 2.5, 1, 0, 3, 1.5, 4, 2, 2.5, 0.5, 2.5], 'Class': [1, 1, 0, 1, 0, 1, 0, 1, 0, 1, 0, 0, 1, 1, 0]}\n"
     ]
    }
   ],
   "source": [
    "data[\"Attribute A\"].remove(10)\n",
    "data[\"Attribute B\"].remove(10)\n",
    "data[\"Class\"].remove(0)\n",
    "print(data)"
   ]
  },
  {
   "cell_type": "markdown",
   "metadata": {},
   "source": [
    "Noise points are points that could be considered invalid under the general trend in the data. These could be the result of actual errors in the data or randomness that we could attribute to oversimplification (for example if missing some information / feature about each point). Considering noise points in our model can often lead to overfitting.\n",
    "\n",
    "c) Are there any points in the dataset that could be noise points?"
   ]
  },
  {
   "cell_type": "markdown",
   "metadata": {},
   "source": [
    "Yes, the Point at (3.5,4) and the point at (3.5,0)"
   ]
  },
  {
   "cell_type": "markdown",
   "metadata": {},
   "source": [
    "For the following point\n",
    "\n",
    "|  A  |  B  |\n",
    "|-----|-----|\n",
    "| 0.5 |  1  |\n",
    "\n",
    "d) Plot it in a different color along with the rest of the points in the dataset."
   ]
  },
  {
   "cell_type": "code",
   "execution_count": 6,
   "metadata": {},
   "outputs": [
    {
     "name": "stdout",
     "output_type": "stream",
     "text": [
      "16\n",
      "16\n",
      "16\n"
     ]
    },
    {
     "data": {
      "image/png": "[encoded data removed]",
      "text/plain": [
       "<Figure size 640x480 with 1 Axes>"
      ]
     },
     "metadata": {},
     "output_type": "display_data"
    }
   ],
   "source": [
    "data[\"Attribute A\"].append(.5)\n",
    "data[\"Attribute B\"].append(1.0)\n",
    "data[\"Class\"].append(2)\n",
    "print(len(data[\"Attribute A\"]))\n",
    "print(len(data[\"Attribute B\"]))\n",
    "print(len(data[\"Class\"]))\n",
    "colors2 = np.array([x for x in 'bgrcmyk'])\n",
    "\n",
    "plt.scatter(data[\"Attribute A\"], data[\"Attribute B\"], color=colors2[data[\"Class\"]].tolist())\n",
    "plt.show()"
   ]
  },
  {
   "cell_type": "markdown",
   "metadata": {},
   "source": [
    "e) Write a function to compute the Euclidean distance from it to all points in the dataset and pick the 3 closest points to it. In a scatter plot, draw a circle centered around the point with radius the distance of the farthest of the three points."
   ]
  },
  {
   "cell_type": "code",
   "execution_count": 10,
   "metadata": {},
   "outputs": [
    {
     "name": "stdout",
     "output_type": "stream",
     "text": [
      "[[0.7071067811865476, (0, 1.5)], [1.118033988749895, (1, 2)], [1.5811388300841898, (0.0, 2.5)]]\n",
      "[1.5811388300841898, (0.0, 2.5)]\n"
     ]
    },
    {
     "data": {
      "image/png": "[encoded data removed]",
      "text/plain": [
       "<Figure size 640x480 with 1 Axes>"
      ]
     },
     "metadata": {},
     "output_type": "display_data"
    }
   ],
   "source": [
    "def n_closest_to(example, n):\n",
    "    \n",
    "    \n",
    "    distances = []\n",
    "    x=n[\"Attribute A\"]\n",
    "    y=n[\"Attribute B\"]\n",
    "    for i in range(len(x) ):\n",
    "         if(x[i] != example[0] and y[i] != example[1]):   \n",
    "            distances.append([np.sqrt((example[0]-x[i])**2 + (example[1]-y[i])**2),(x[i],y[i])]) \n",
    "\n",
    "    minimum = []\n",
    "    minimum.append(min(distances , key = lambda x: x[0]))\n",
    "    distances.remove(minimum[0])\n",
    "    minimum.append(min(distances , key = lambda x: x[0]))\n",
    "    distances.remove(minimum[1])\n",
    "    minimum.append(min(distances , key = lambda x: x[0]))\n",
    "    distances.remove(minimum[2])\n",
    "\n",
    "    print(minimum)\n",
    "    return minimum \n",
    "\n",
    "\n",
    "\n",
    "minimum = n_closest_to((.5,1), (data) )\n",
    "max_point = max(minimum, key = lambda x: x[0])\n",
    "print(max_point)\n",
    "location = max_point[1]\n",
    "\n",
    "radius = max_point[0]\n",
    "_, axes = plt.subplots() \n",
    "x, y = zip(minimum[0][1], minimum[1][1], minimum[2][1])\n",
    "\n",
    "axes.scatter(x,y)\n",
    "cir = plt.Circle(location, radius, fill = False, alpha=0.8)\n",
    "axes.add_patch(cir)\n",
    "axes.set_aspect('equal') # necessary so that the circle is not oval\n",
    "plt.show()"
   ]
  },
  {
   "cell_type": "markdown",
   "metadata": {},
   "source": [
    "f) Write a function that takes the three points returned by your function in e) and returns the class that the majority of points have (break ties with a deterministic default class of your choosing). Print the class assigned to this new point by your function."
   ]
  },
  {
   "cell_type": "code",
   "execution_count": 11,
   "metadata": {},
   "outputs": [],
   "source": [
    "def majority(points):\n",
    "    count = 0\n",
    "    count2 = 0\n",
    "    for i in range(0,len(points)):\n",
    "        if(data[\"Class\"][findIndex(data,points[i][1])]==1):\n",
    "            count+=1\n",
    "        if(data[\"Class\"][findIndex(data,points[i][1])]==0):\n",
    "            count2+=1  \n",
    "        \n",
    "    if(count>count2): \n",
    "        data[\"Class\"][-1]=1  \n",
    "        print(\"Assigning 1\")\n",
    "        return 1\n",
    "    if(count2>count):\n",
    "        data[\"Class\"][-1]=0\n",
    "        print(\"Assinging 0\")    \n",
    "        return 0\n",
    "\n",
    "    if(count == count2):\n",
    "        data[\"Class\"][-1]=1\n",
    "        print(\"Assigning 1\")\n",
    "        return 1\n",
    "\n",
    "def findIndex(data,points):\n",
    "    for i in range(len(data[\"Attribute A\"])):\n",
    "        if(data[\"Attribute A\"][i] == points[0] and data[\"Attribute B\"][i] == points[1]):\n",
    "            return i"
   ]
  },
  {
   "cell_type": "markdown",
   "metadata": {},
   "source": [
    "g) Re-using the functions from e) and f), you should be able to assign a class to any new point. In this exercise we will implement Leave-one-out cross validiation in order to evaluate the performance of our model.\n",
    "\n",
    "For each point in the dataset:\n",
    "\n",
    "- consider that point as your test set and the rest of the data as your training set\n",
    "- classify that point using the training set\n",
    "- keep track of whether you were correct with the use of a counter\n",
    "\n",
    "Once you've iterated through the entire dataset, divide the counter by the number of points in the dataset to report an overall testing accuracy."
   ]
  },
  {
   "cell_type": "code",
   "execution_count": 22,
   "metadata": {},
   "outputs": [
    {
     "name": "stdout",
     "output_type": "stream",
     "text": [
      "[[1.5811388300841898, (2, 3.5)], [1.8027756377319946, (2.5, 2.5)], [2.5, (1.5, 2.5)]]\n",
      "Assigning 1\n",
      "[[0.7071067811865476, (0.5, 1.0)], [1.118033988749895, (1, 2)], [1.118033988749895, (0.5, 0.5)]]\n",
      "Assigning 1\n",
      "[[0.7071067811865476, (1.5, 2.5)], [1.118033988749895, (0, 1.5)], [1.118033988749895, (0.0, 2.5)]]\n",
      "Assigning 1\n",
      "[[0.7071067811865476, (3, 1.5)], [1.118033988749895, (2, 2)], [1.4142135623730951, (3.5, 0)]]\n",
      "Assigning 1\n",
      "[[1.118033988749895, (1.5, 2.5)], [1.118033988749895, (1, 3)], [1.118033988749895, (2.5, 2.5)]]\n",
      "Assigning 1\n",
      "[[0.7071067811865476, (1, 2)], [0.7071067811865476, (1, 3)], [0.7071067811865476, (2, 2)]]\n",
      "Assinging 0\n",
      "[[1.118033988749895, (3, 1.5)], [1.4142135623730951, (1, 2)], [1.5811388300841898, (1.5, 2.5)]]\n",
      "Assigning 1\n",
      "[[1.4142135623730951, (2.5, 1)], [1.5811388300841898, (3, 1.5)], [1.8027756377319946, (2, 1)]]\n",
      "Assigning 1\n",
      "[[0.7071067811865476, (1.5, 2.5)], [1.118033988749895, (2, 3.5)], [1.118033988749895, (0.0, 2.5)]]\n",
      "Assinging 0\n",
      "[[0.7071067811865476, (2.5, 1)], [1.118033988749895, (2, 1)], [1.118033988749895, (2, 2)]]\n",
      "Assinging 0\n",
      "[[1.4142135623730951, (1, 3)], [1.5811388300841898, (1.5, 2.5)], [1.5811388300841898, (2.5, 2.5)]]\n",
      "Assigning 1\n",
      "[[0.7071067811865476, (1.5, 2.5)], [0.7071067811865476, (2.5, 2.5)], [1.118033988749895, (2.5, 1)]]\n",
      "Assigning 1\n",
      "[[0.7071067811865476, (2, 2)], [1.118033988749895, (2, 3.5)], [1.118033988749895, (3, 1.5)]]\n",
      "Assinging 0\n",
      "[[1.118033988749895, (0, 1.5)], [1.5811388300841898, (1, 2)], [1.5811388300841898, (2, 1)]]\n",
      "Assinging 0\n",
      "[[1.118033988749895, (1, 2)], [1.118033988749895, (1, 3)], [1.5811388300841898, (0.5, 1.0)]]\n",
      "Assinging 0\n",
      "[[0.7071067811865476, (0, 1.5)], [1.118033988749895, (1, 2)], [1.5811388300841898, (0.0, 2.5)]]\n",
      "Assinging 0\n",
      "overall accuracy =  0.4375\n"
     ]
    }
   ],
   "source": [
    "import copy\n",
    "\n",
    "count = 0\n",
    "for i in range(len(data[\"Attribute A\"])):\n",
    "\n",
    "    training_set ={}\n",
    "    actual_class = data[\"Class\"][i]\n",
    "    training_set = {\n",
    "        \"Attribute A\" : copy.deepcopy(data[\"Attribute A\"]) ,\n",
    "        \"Attribute B\" : copy.deepcopy(data[\"Attribute B\"]) ,\n",
    "        \"Class\" : copy.deepcopy(data[\"Class\"]),\n",
    "    }\n",
    "\n",
    "    training_set[\"Attribute A\"].pop(i)\n",
    "    training_set[\"Attribute B\"].pop(i)\n",
    "    training_set[\"Class\"].pop(i)   \n",
    "\n",
    "    point = (data[\"Attribute A\"][i], data[\"Attribute B\"][i])\n",
    "    prediction = majority(n_closest_to(point, training_set)) \n",
    "    if prediction == actual_class:\n",
    "        count += 1\n",
    "\n",
    "print(\"overall accuracy = \", count/len(data[\"Attribute A\"]))"
   ]
  },
  {
   "attachments": {},
   "cell_type": "markdown",
   "metadata": {},
   "source": [
    "## Challenge Problem\n",
    "\n",
    "For this question we will re-use the \"mnist_784\" dataset.\n",
    "\n",
    "a) Begin by creating a training and testing datasest from our dataset, with a 80-20 ratio, and random_state=1. You can use the `train_test_split` function from sklearn. By holding out a portion of the dataset we can evaluate how our model generalizes to unseen data (i.e. data it did not learn from)."
   ]
  },
  {
   "cell_type": "code",
   "execution_count": 16,
   "metadata": {},
   "outputs": [
    {
     "name": "stderr",
     "output_type": "stream",
     "text": [
      "/home/daniyal-ahmed/.local/lib/python3.11/site-packages/sklearn/datasets/_openml.py:1002: FutureWarning: The default value of `parser` will change from `'liac-arff'` to `'auto'` in 1.4. You can set `parser='auto'` to silence this warning. Therefore, an `ImportError` will be raised from 1.4 if the dataset is dense and pandas is not installed. Note that the pandas parser may return different data types. See the Notes Section in fetch_openml's API doc for details.\n",
      "  warn(\n"
     ]
    },
    {
     "name": "stdout",
     "output_type": "stream",
     "text": [
      "[[0. 0. 0. ... 0. 0. 0.]\n",
      " [0. 0. 0. ... 0. 0. 0.]\n",
      " [0. 0. 0. ... 0. 0. 0.]\n",
      " ...\n",
      " [0. 0. 0. ... 0. 0. 0.]\n",
      " [0. 0. 0. ... 0. 0. 0.]\n",
      " [0. 0. 0. ... 0. 0. 0.]]\n"
     ]
    }
   ],
   "source": [
    "from sklearn.model_selection import train_test_split \n",
    "from sklearn.datasets import fetch_openml\n",
    "X, y = fetch_openml(name=\"mnist_784\", version=1, return_X_y=True,\n",
    "as_frame=False)\n",
    "\n",
    "X_train, X_test, Y_train, Y_test = train_test_split(X, y, train_size=.8, test_size=0.2, random_state=1)\n",
    "\n",
    "print(X_train)"
   ]
  },
  {
   "attachments": {},
   "cell_type": "markdown",
   "metadata": {},
   "source": [
    "b) For K ranging from 1 to 20:\n",
    "\n",
    "1. train a KNN on the training data\n",
    "2. record the training and testing accuracy\n",
    "\n",
    "Plot a graph of the training and testing set accuracy as a function of the number of neighbors K (on the same plot). Which value of K is optimal? Briefly explain."
   ]
  },
  {
   "cell_type": "code",
   "execution_count": 17,
   "metadata": {},
   "outputs": [
    {
     "data": {
      "image/png": "[encoded data removed]",
      "text/plain": [
       "<Figure size 640x480 with 1 Axes>"
      ]
     },
     "metadata": {},
     "output_type": "display_data"
    }
   ],
   "source": [
    "from sklearn.neighbors import KNeighborsClassifier\n",
    "\n",
    "score = []\n",
    "\n",
    "\n",
    "for i in range(1, 21):\n",
    "    \n",
    "    knn = KNeighborsClassifier(n_neighbors=i)\n",
    "\n",
    "    knn.fit(X_train, Y_train)\n",
    "\n",
    "    score.append(knn.score(X_test, Y_test))\n",
    "\n",
    "\n",
    "plt.scatter(range(1, 21), score)\n",
    "plt.xlabel('k')\n",
    "plt.ylabel('accuracy')\n",
    "plt.show()"
   ]
  },
  {
   "attachments": {},
   "cell_type": "markdown",
   "metadata": {},
   "source": [
    "c) Using the best model from b), pick an image at random and plot it next to its K nearest neighbors"
   ]
  },
  {
   "cell_type": "code",
   "execution_count": 18,
   "metadata": {},
   "outputs": [
    {
     "name": "stdout",
     "output_type": "stream",
     "text": [
      "[[  0.         910.42188023 910.48668304 931.01450042]]\n",
      "[[ 1580 50428  3528 17595]]\n"
     ]
    },
    {
     "data": {
      "image/png": "[encoded data removed]",
      "text/plain": [
       "<Figure size 640x480 with 1 Axes>"
      ]
     },
     "metadata": {},
     "output_type": "display_data"
    }
   ],
   "source": [
    "import random\n",
    "\n",
    "\n",
    "knn = KNeighborsClassifier(n_neighbors=3)\n",
    "\n",
    "knn.fit(X_train, Y_train)\n",
    "\n",
    "random_point = random.randint(0, len(X_train))\n",
    "\n",
    "dis , points = knn.kneighbors(X_train[random_point].reshape(1, -1), 4, return_distance=True)\n",
    "\n",
    "\n",
    "\n",
    "print(dis)\n",
    "print(points)\n",
    "\n",
    "col=[1,0,0,0]\n",
    "#GREEN ONE IS THE ORIGINAL POINT\n",
    "plt.scatter(dis, points, color = colors[col].tolist())\n",
    "plt.xlabel(\"Distance\")\n",
    "plt.ylabel(\"Index Value\")\n",
    "plt.show()"
   ]
  },
  {
   "attachments": {},
   "cell_type": "markdown",
   "metadata": {},
   "source": [
    "d) Using a dimensionality reduction technique discussed in class, reduce the dimensionality of the dataset before applying a KNN model. Repeat b) and discuss similarities and differences to the previous model. Briefly discuss your choice of dimension and why you think the performance / accuracy of the model has changed."
   ]
  },
  {
   "cell_type": "code",
   "execution_count": 25,
   "metadata": {},
   "outputs": [
    {
     "name": "stdout",
     "output_type": "stream",
     "text": [
      "[0.3757857142857143, 0.3896428571428571, 0.4, 0.4065, 0.41264285714285714, 0.41485714285714287, 0.421, 0.42014285714285715, 0.42392857142857143, 0.42457142857142854, 0.4317142857142857, 0.42978571428571427, 0.43492857142857144, 0.4352142857142857, 0.43764285714285717, 0.4392142857142857, 0.44092857142857145, 0.4442857142857143, 0.4461428571428571, 0.4466428571428571]\n"
     ]
    },
    {
     "data": {
      "image/png": "[encoded data removed]",
      "text/plain": [
       "<Figure size 640x480 with 1 Axes>"
      ]
     },
     "metadata": {},
     "output_type": "display_data"
    }
   ],
   "source": [
    "from sklearn.pipeline import make_pipeline\n",
    "from sklearn.decomposition import PCA\n",
    "from sklearn.preprocessing import StandardScaler\n",
    "\n",
    "from sklearn.neighbors import KNeighborsClassifier\n",
    "\n",
    "\n",
    "\n",
    "score = []\n",
    "for i in range(1, 21):\n",
    "    \n",
    "    model = make_pipeline(PCA(n_components=2), KNeighborsClassifier(n_neighbors=i))\n",
    "    model.fit(X_train, Y_train)\n",
    "\n",
    "    score.append(model.score(X_test, Y_test))\n",
    "\n",
    "\n",
    "print(score)\n",
    "plt.scatter(range(1, 21), score)\n",
    "plt.xlabel('k')\n",
    "plt.ylabel('accuracy')\n",
    "plt.show()\n"
   ]
  },
  {
   "cell_type": "markdown",
   "metadata": {},
   "source": []
  },
  {
   "attachments": {},
   "cell_type": "markdown",
   "metadata": {},
   "source": [
    "## Midterm Prep (Part 1)\n",
    "\n",
    "Compete in the Titanic Data Science Competition on Kaggle: https://www.kaggle.com/c/titanic \n",
    "\n",
    "Requirements:\n",
    "\n",
    "1. Add at least 2 new features to the dataset (explain your reasoning below)\n",
    "2. Use KNN (and only KNN) to predict survival\n",
    "3. Explain your process below and choice of K\n",
    "4. Make a submission to the competition and provide a link to your submission below.\n",
    "5. Show your code below"
   ]
  },
  {
   "cell_type": "code",
   "execution_count": null,
   "metadata": {},
   "outputs": [],
   "source": [
    "import pandas as pd\n",
    "\n",
    "\n",
    "file=pd.read_csv(\"Enter File here\")\n",
    "\n",
    "\n",
    "features = [\"Feature 1 \", \"Feature 2\"]\n",
    "\n",
    "knn= KNeighborsClassifier(...)\n",
    "\n",
    "knn.fit()\n",
    "\n",
    "\n"
   ]
  },
  {
   "attachments": {},
   "cell_type": "markdown",
   "metadata": {},
   "source": []
  }
 ],
 "metadata": {
  "kernelspec": {
   "display_name": "Python 3",
   "language": "python",
   "name": "python3"
  },
  "language_info": {
   "codemirror_mode": {
    "name": "ipython",
    "version": 3
   },
   "file_extension": ".py",
   "mimetype": "text/x-python",
   "name": "python",
   "nbconvert_exporter": "python",
   "pygments_lexer": "ipython3",
   "version": "3.11.0rc1"
  },
  "orig_nbformat": 4,
  "vscode": {
   "interpreter": {
    "hash": "e7370f93d1d0cde622a1f8e1c04877d8463912d04d973331ad4851f04de6915a"
   }
  }
 },
 "nbformat": 4,
 "nbformat_minor": 2
}
