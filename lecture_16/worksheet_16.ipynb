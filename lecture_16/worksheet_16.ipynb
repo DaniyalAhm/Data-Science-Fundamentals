{
 "cells": [
  {
   "attachments": {},
   "cell_type": "markdown",
   "metadata": {},
   "source": [
    "# Worksheet 16\n",
    "\n",
    "Name: Daniyal Ahmed  \n",
    "UID: U11469883\n",
    "\n",
    "### Topics\n",
    "\n",
    "- Support Vector Machines (Non-linear case)\n",
    "\n",
    "## Support Vector Machines\n",
    "\n",
    "Follow along in class to implement the perceptron algorithm and create an animation of the algorithm."
   ]
  },
  {
   "attachments": {},
   "cell_type": "markdown",
   "metadata": {},
   "source": [
    "a) As we saw in class, the form\n",
    "$$w^T x + b = 0$$\n",
    "while simple, does not expose the inner product `<x_i, x_j>` which we know `w` depends on, having done the math. This is critical to applying the \"kernel trick\" which allows for learning non-linear decision boundaries. Let's modify the above algorithm to use the form\n",
    "$$\\sum_i \\alpha_i <x_i, x> + b = 0$$"
   ]
  },
  {
   "cell_type": "code",
   "execution_count": 41,
   "metadata": {},
   "outputs": [],
   "source": [
    "import numpy as np\n",
    "from PIL import Image as im\n",
    "import matplotlib.pyplot as plt\n",
    "import sklearn.datasets as datasets\n",
    "\n",
    "TEMPFILE = \"temp.png\"\n",
    "CENTERS = [[0, 1], [1, 0]]\n",
    "\n",
    "epochs = 100\n",
    "learning_rate = .05\n",
    "expanding_rate = .99\n",
    "retracting_rate = 1.1\n",
    "\n",
    "X, labels = datasets.make_blobs(n_samples=10, centers=CENTERS, cluster_std=0.2, random_state=0)\n",
    "Y = np.array(list(map(lambda x : -1 if x == 0 else 1, labels.tolist())))\n",
    "\n",
    "alpha_i = np.zeros((len(X),))\n",
    "b = 0.1\n",
    "\n",
    "def snap(x, alpha_i, b, error):\n",
    "    # create a mesh to plot in\n",
    "    h = .01  # step size in the mesh\n",
    "    x_min, x_max = X[:, 0].min() - .5, X[:, 0].max() + .5\n",
    "    y_min, y_max = X[:, 1].min() - .5, X[:, 1].max() + .5\n",
    "    xx, yy = np.meshgrid(np.arange(x_min, x_max, h),\n",
    "                         np.arange(y_min, y_max, h))\n",
    "\n",
    "    meshData = np.c_[xx.ravel(), yy.ravel()]\n",
    "    cs = np.array([x for x in 'gb'])\n",
    "\n",
    "    svm = np.array([predict(alpha_i, b, x) for x in X])\n",
    "\n",
    "    #w\n",
    "#    w = np.sum(alpha_i * Y[:, None] * X, axis=0)\n",
    "\n",
    "\n",
    "    fig, ax = plt.subplots()\n",
    "\n",
    "    ax.scatter(X[:,0],X[:,1],color=cs[labels].tolist(), s=50, alpha=0.8)\n",
    "\n",
    "    if error:\n",
    "        ax.add_patch(plt.Circle((x[0], x[1]), .12, color='r',fill=False))\n",
    "    else:\n",
    "        ax.add_patch(plt.Circle((x[0], x[1]), .12, color='y',fill=False))\n",
    "   \n",
    "    Z = predict_many(alpha_i, b, meshData)\n",
    "    Z = np.array([0 if z <=0 else 1 for z in Z]).reshape(xx.shape)\n",
    "    ax.contourf(xx, yy, Z, alpha=.5, cmap=plt.cm.Paired)\n",
    "    fig.savefig(TEMPFILE)\n",
    "    plt.close()\n",
    "    return im.fromarray(np.asarray(im.open(TEMPFILE)))\n",
    "\n",
    "def predict_many(alpha_i, b, Z):\n",
    "    res = []\n",
    "    for i in range(len(Z)):\n",
    "        res.append(predict(alpha_i, b, Z[i]))\n",
    "    return np.array(res)\n",
    "\n",
    "def predict(alpha_i, b, x):\n",
    "     wx = 0\n",
    "     for i in range(len(alpha_i)):\n",
    "         wx += alpha_i[i] * Y[i] * np.dot(X[i], x)\n",
    "  \n",
    "  \n",
    "  \n",
    "     return wx +b\n",
    "\n",
    "\n",
    "learning_rate = .05\n",
    "lr = learning_rate\n",
    "error = False\n",
    "images = []\n",
    "for _ in range(epochs):\n",
    "    # pick a point from X at random\n",
    "    i = np.random.randint(0, len(X))\n",
    "    x, y = X[i], Y[i]\n",
    "    ypred = predict(alpha_i, b, x)\n",
    "    if (ypred > 0 and y > 0) or (ypred < 0 and y < 0):\n",
    "        # classified correctly\n",
    "        if ypred < 1 and ypred > -1:\n",
    "            # in the street / street is too wide\n",
    "            alpha_i[i] += y * lr\n",
    "            alpha_i = alpha_i * retracting_rate           \n",
    "            b += y * lr * retracting_rate\n",
    "        else:\n",
    "            # street is too narrow\n",
    "            alpha_i = alpha_i * expanding_rate\n",
    "            b *= expanding_rate\n",
    "    else:\n",
    "        # misclassified\n",
    "        alpha_i[i] += y * lr\n",
    "        alpha_i = alpha_i * expanding_rate\n",
    "        b += y * lr * expanding_rate\n",
    "        #expand\n",
    "        \n",
    "\n",
    "        \n",
    "    images.append(snap(x, alpha_i, b, error))\n",
    "\n",
    "images[0].save(\n",
    "    'svm_dual.gif',\n",
    "    optimize=False,\n",
    "    save_all=True,\n",
    "    append_images=images[1:],\n",
    "    loop=0,\n",
    "    duration=100\n",
    ")"
   ]
  },
  {
   "cell_type": "markdown",
   "metadata": {},
   "source": [
    "Write a configurable kernel function to apply in lieu of the dot product. Try it out on a dataset that is not linearly separable."
   ]
  },
  {
   "cell_type": "code",
   "execution_count": null,
   "metadata": {},
   "outputs": [
    {
     "name": "stdout",
     "output_type": "stream",
     "text": [
      "[[ 0.27429858 -0.23190108 -0.05834478 ... -0.39281232  0.15425811\n",
      "  -0.14573994]\n",
      " [-0.23190108  0.30094152 -0.11181748 ...  0.12814945  0.01249924\n",
      "   0.25099401]\n",
      " [-0.05834478 -0.11181748  0.25999091 ...  0.39689614 -0.25238382\n",
      "  -0.16532163]\n",
      " ...\n",
      " [-0.39281232  0.12814945  0.39689614 ...  0.95910398 -0.49880195\n",
      "  -0.03975952]\n",
      " [ 0.15425811  0.01249924 -0.25238382 ... -0.49880195  0.28148305\n",
      "   0.09215161]\n",
      " [-0.14573994  0.25099401 -0.16532163 ... -0.03975952  0.09215161\n",
      "   0.23310907]]\n"
     ]
    }
   ],
   "source": [
    "from sklearn.datasets import make_moons, make_circles\n",
    "import math\n",
    "#I did a bit of research and found that sometimes there is a scaling factor denoted with Y\n",
    "def polynomial(x_i, x_j, c, n, y=1, sigma=1):\n",
    "    return y*(np.dot(x_i, x_j) + c) ** n\n",
    "\n",
    "def RBF(x_i, x_j, c, n, y=1, sigma=1):\n",
    "\n",
    "    #norm calculated the euclidean distance between two points\n",
    "    #\n",
    "    return np.exp(-sigma * np.linalg.norm(x_i - x_j))\n",
    "\n",
    "\n",
    "def linear(x_i, x_j, c=1, n=1, y=1, sigma=1):\n",
    "    return np.dot(x_i, x_j)\n",
    "\n",
    "def kernel(X,Y, c=1, n=1, y=1 , kernel=RBF, sigma=1):\n",
    "    result = [[0 for x in range(len(Y))] for _ in range(len(X))]\n",
    "    for i in range(len(X)):\n",
    "        for j in range(len(Y)):\n",
    "            result[i][j]=(kernel(X[i], Y[j], c, n, y, sigma))\n",
    "    return np.array(result)\n",
    "\n",
    "\n",
    "\n",
    "X_circles, y_circles = make_circles(n_samples=100, noise=0.05, factor=0.5, random_state=42)\n",
    "\n",
    "\n",
    "X= kernel(X_circles, X_circles, 1, 2, 1, kernel= linear)\n",
    "print(X)"
   ]
  },
  {
   "attachments": {},
   "cell_type": "markdown",
   "metadata": {},
   "source": [
    "b) Assume we fit an SVM using a polynomial Kernel function and it seems to overfit the data. How would you adjust the tuning parameter `n` of the kernel function?"
   ]
  },
  {
   "cell_type": "markdown",
   "metadata": {},
   "source": [
    "I would pass lessen the the degree (or n) to stop the model from over learning data and over analyzing patterns "
   ]
  },
  {
   "attachments": {},
   "cell_type": "markdown",
   "metadata": {},
   "source": [
    "c) Assume we fit an SVM using a RBF Kernel function and it seems to underfit the data. How would you adjust the tuning parameter `sigma` of the kernel function?"
   ]
  },
  {
   "cell_type": "markdown",
   "metadata": {},
   "source": [
    "We would decrease the Sigma as to aviod it from over analyzing the data, this will increase the distance between the two points "
   ]
  },
  {
   "attachments": {},
   "cell_type": "markdown",
   "metadata": {},
   "source": [
    "d) Tune the parameter of a specific Kernel function, to fit an SVM (using your code above) to the following dataset:"
   ]
  },
  {
   "cell_type": "code",
   "execution_count": 40,
   "metadata": {},
   "outputs": [
    {
     "data": {
      "image/png": "[encoded data removed]",
      "text/plain": [
       "<Figure size 640x480 with 1 Axes>"
      ]
     },
     "metadata": {},
     "output_type": "display_data"
    }
   ],
   "source": [
    "import numpy as np\n",
    "import matplotlib.pyplot as plt\n",
    "import time\n",
    "data = np.loadtxt(\"spiral.data\")\n",
    "x, y = data[:, :2], data[:, 2]\n",
    "j = 1/2516582400000\n",
    "\n",
    "\n",
    "\n",
    "x= kernel(x, x,kernel= RBF, sigma=j)\n",
    "plt.scatter(x[:, 0], x[:, 1], c=y)\n",
    "plt.show()"
   ]
  }
 ],
 "metadata": {
  "kernelspec": {
   "display_name": "env",
   "language": "python",
   "name": "python3"
  },
  "language_info": {
   "codemirror_mode": {
    "name": "ipython",
    "version": 3
   },
   "file_extension": ".py",
   "mimetype": "text/x-python",
   "name": "python",
   "nbconvert_exporter": "python",
   "pygments_lexer": "ipython3",
   "version": "3.11.0rc1"
  },
  "orig_nbformat": 4,
  "vscode": {
   "interpreter": {
    "hash": "76ca05dc3ea24b2e3b98cdb7774adfbb40773424bf5109b477fd793f623715af"
   }
  }
 },
 "nbformat": 4,
 "nbformat_minor": 2
}
