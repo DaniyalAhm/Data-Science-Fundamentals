{
 "cells": [
  {
   "attachments": {},
   "cell_type": "markdown",
   "metadata": {},
   "source": [
    "# Worksheet 01\n",
    "\n",
    "Name:  \n",
    "UID: \n",
    "\n",
    "### Topics\n",
    "\n",
    "- Git\n",
    "\n",
    "## Prerequisites (installations)\n",
    "\n",
    "#### This is your checklist:\n",
    "\n",
    "- [x] Access to terminal\n",
    "- [x] Install Git\n",
    "- [x] Sign up for a GitHub account\n",
    "- [x] Choose editor\n",
    "- [x] Set up ssh keys\n",
    "- [x] Configure git\n",
    "\n",
    "### Step 1: Work Environment:  Access to Terminal \n",
    "\n",
    "- Mac/Linux: use **Terminal**\n",
    "- Windows:\n",
    "\t- Option 1:  [Power Shell](https://www.digitalcitizen.life/simple-questions-what-powershell-what-can-you-do-it)\n",
    "\t- Option 2:  Git Bash (recommended)\n",
    "\t\n",
    "### Step 2: Install Git\n",
    "\n",
    "- Mac:  \n",
    "\t- [Git](https://git-scm.com/download/mac)\n",
    "- Windows:  \n",
    "\t- [Git for Windows (Git Bash)](https://gitforwindows.org/)\n",
    "- Linux:\n",
    "\t- [Install Git on Linux](https://www.atlassian.com/git/tutorials/install-git#linux)\n",
    "\n",
    "Confirm Git is installed by typing `git --version` on your terminal\n",
    "\n",
    "### Step 3: Sign up for a GitHub Account\n",
    " \n",
    " Go to [github.com](https://github.com/)\n",
    "\n",
    "### Step 4: Choose a Graphical Editor\n",
    "\n",
    "- Try Visual Studio Code\n",
    "\t* [Visual Studio Code](https://visualstudio.microsoft.com/downloads/)\n",
    "- OR one of these other editors\n",
    "\t* [Sublime Text 3](https://www.sublimetext.com/)\n",
    "\t* [Atom](https://atom.io/) \n",
    "\t* [Notepad++](https://notepad-plus-plus.org/) (for Windows)\n",
    "\n",
    "### Step 5: SSH Setup\n",
    "\n",
    "#### Mac & Linux Users\n",
    "\n",
    "Go to home directory (in terminal)\n",
    "\n",
    "```bash\n",
    "% cd ~\n",
    "% pwd\n",
    "/Users/gallettilance\n",
    "```\n",
    "\n",
    "Go to `.ssh` directory\n",
    "\n",
    "```bash\n",
    "% pwd\n",
    "/Users/gallettilance\n",
    "% cd .ssh\n",
    "% pwd\n",
    "/Users/gallettilance/.ssh \n",
    "```\n",
    "\n",
    "**Note:**  If you do not have the `.ssh` directory, you can create it\n",
    "\n",
    "- if you are in your home directory:\n",
    "\t- <kbd> mkdir .ssh </kbd>  \n",
    "- if you are not in your home directory:\n",
    "\t- <kbd> mkdir ~/.ssh </kbd>  \n",
    "\n",
    "Generate `id_rsa` keypair files if needed\n",
    "\n",
    "- **Note:**  these `id_rsa` files contain a special password for your computer to be connect to network services (Ex:  GitHub, AWS).\n",
    "- Check to see if these files exist by typing <kbd> ls -alt</kbd>\n",
    "- If you do not have these two files (`id_rsa` and `id_rsa.pub`), create them by typing:  \n",
    "\t- <kbd> ssh-keygen</kbd>\n",
    "\t- Hit  <kbd> enter  </kbd> **3 times**\n",
    "\n",
    "```bash\n",
    "% pwd \n",
    "/Users/gallettilance/.ssh\n",
    "% ls\n",
    "% ssh-keygen\n",
    "Generating public/private rsa key pair.\n",
    "Enter file in which to save the key (/Users/gallettilance/.ssh/id_rsa): \n",
    "Enter passphrase (empty for no passphrase): \n",
    "Enter same passphrase again: \n",
    "Your identification has been saved in /Users/gallettilance/.ssh/id_rsa.\n",
    "Your public key has been saved in /Users/gallettilance/.ssh/id_rsa.pub.\n",
    "The key fingerprint is:\n",
    "SHA256:jmDJes1qOzDi8KynXLGQ098JMSRnbIyt0w7vSgEsr2E gallettilance@RESHAMAs-MacBook-Pro.local\n",
    "The key's randomart image is:\n",
    "+---[RSA 2048]----+\n",
    "|   .=+           |\n",
    "|.  .==           |\n",
    "|.o  +o           |\n",
    "|..+= oo          |\n",
    "|.E.+X.  S        |\n",
    "|+o=o=*oo.        |\n",
    "|++.*o.+o.        |\n",
    "|..*.oo           |\n",
    "|o= o+o           |\n",
    "+----[SHA256]-----+\n",
    "% ls\n",
    "total 16\n",
    "-rw-------  1   1675 Dec 17 12:20 id_rsa\n",
    "-rw-r--r--  1    422 Dec 17 12:20 id_rsa.pub\n",
    "% \n",
    "```\n",
    "\n",
    "Navigate to the `.ssh` directory\n",
    "\n",
    "<kbd> cd ~/.ssh </kbd>  \n",
    "\n",
    "open `id_rsa.pub` using your editor of choice and copy its contents. Add `ssh` key to GitHub by following these steps:\n",
    "\n",
    "- go to your [GitHub account](https://github.com/) (create one if you don't have one, and save your user name and password somewhere easily accessible for you.)\n",
    "- click on your avatar/profile picture (upper right of screen)\n",
    "- go to `Settings`\n",
    "- on left of screen, select `SSH and GPG keys`\n",
    "- Select <kbd> New SSH key </kbd>\n",
    "- for \"Title\":  entitle it  \"GitHub key\"\n",
    "- for \"Key\":  paste key from clipboard here\n",
    "- click <kbd> Add SSH key </kbd>\n",
    "- save, exit, confirm GitHub password as requested\n",
    "\n",
    "#### Windows Users\n",
    "\n",
    "Follow [How to Create SSH Keys with PuTTY on Windows](https://www.digitalocean.com/docs/droplets/how-to/add-ssh-keys/create-with-putty/)\n",
    "\n",
    "#### For Windows 10 or 11\n",
    "- Press Windows+R\n",
    "- Enter cmd\n",
    "- In the opened Command Prompt, type in “ssh-keygen”\n",
    "- Press Enter\n",
    "- You can choose to enter a passphrase, it will not be displayed.\n",
    "- Go to the shown path to find your file named id_rsa.pub Ex. C:\\Users\\user/ .ssh/id_rsa.pub\n",
    "- Open the file with a notepad and copy everything\n",
    "- Go to github and click settings at top right \n",
    "- Go to SSH and GPG keys, click New SSH key and paste your SSH key here. \n",
    "- Click Add SSH key. You might be asked to enter Github password.\n",
    "- Go back to your Command Prompt and type in “ssh -T git@github.com”\n",
    "- Enter your SSH passphrase. \n",
    "\n",
    "- You will see “You’ve successfully authenticated” in the following message. Which means you are now connected to Github.\n",
    "\n",
    "### Step 6: Configure Git\n",
    "\n",
    "\n",
    "\n",
    "#### Configure user name and email (lets Git know who you are)\n",
    "\n",
    "<kbd> git config --global user.name \"First Last\"  </kbd>  \n",
    "<kbd> git config --global user.email \"myname@email.com\"  </kbd>  \n",
    "\n",
    "To verify these additions, type:  \n",
    "<kbd> git config --list  </kbd>  \n",
    "\n",
    "#### Default Editor\n",
    "\n",
    "The default editor will be [Vim](https://vim.rtorr.com/). You may want to look up how to edit, save, and close vim as this can't be done with just point and click (you must use the vim commands)."
   ]
  },
  {
   "attachments": {},
   "cell_type": "markdown",
   "metadata": {},
   "source": [
    "### Git / GitHub (In Class)\n",
    "\n",
    "a) what is the difference between git and github?"
   ]
  },
  {
   "cell_type": "markdown",
   "metadata": {},
   "source": [
    "Github is a company that hosts git, where git itself is a version control system that helps store different versions of projects and allows you to update your project as you progress. Because it is a version control system, it allows you to go back to a previous version incase you had some aspect about that version you preferred."
   ]
  },
  {
   "cell_type": "markdown",
   "metadata": {},
   "source": [
    "b) what command would you use to copy a repo locally?"
   ]
  },
  {
   "cell_type": "markdown",
   "metadata": {},
   "source": [
    "You can use Git clone\n",
    "\n",
    "Hence:\n",
    " \n",
    "git clone <url>"
   ]
  },
  {
   "cell_type": "markdown",
   "metadata": {},
   "source": [
    "c) what button would you use to make a copy of a repo in GitHub?"
   ]
  },
  {
   "attachments": {
    "image.png": {
     "image/png": "[encoded data removed]"
    }
   },
   "cell_type": "markdown",
   "metadata": {},
   "source": [
    "you can fork a git repo by clicking this button:\n",
    "![image.png](attachment:image.png)\n",
    "It is usually in the upper right hand corner"
   ]
  },
  {
   "attachments": {},
   "cell_type": "markdown",
   "metadata": {},
   "source": [
    "d) let's say you have a copy of a repo in GitHub but that repo changes, does your copy on your laptop change too? why / why not?"
   ]
  },
  {
   "cell_type": "markdown",
   "metadata": {},
   "source": [
    "No it does not, when you clone a repo from github you download that version of that repo and only that version. If the repo has changed and you need to push your version to Github, you will encounter an error because it messes up the timeline since git doesn't know where exactly to place your version"
   ]
  },
  {
   "cell_type": "markdown",
   "metadata": {},
   "source": [
    "e) what are the three commands you use to create a new save point in your git repo and back it up to GitHub?"
   ]
  },
  {
   "cell_type": "code",
   "execution_count": null,
   "metadata": {},
   "outputs": [],
   "source": [
    "git add\n",
    "git commit -m \"Type your message here\"\n",
    "git push"
   ]
  },
  {
   "cell_type": "markdown",
   "metadata": {},
   "source": [
    "The first git command adds any file you need to the upload stream\n",
    "The Second git command commits, here you tell what changes you made to the files that you are uploading new versions of\n",
    "finally you push them to git hub with git push"
   ]
  },
  {
   "attachments": {},
   "cell_type": "markdown",
   "metadata": {},
   "source": [
    "f) how would you make your local and remote copies change so that they have the most up-to-date version of the repo they are copied from?"
   ]
  },
  {
   "cell_type": "code",
   "execution_count": null,
   "metadata": {},
   "outputs": [],
   "source": [
    "\"you can use \"\n",
    "git pull <url>\n",
    "\"alternatively if you need to pull from some specific branch then what you can do is \"\n",
    "git pull origin <branchname>"
   ]
  },
  {
   "cell_type": "markdown",
   "metadata": {},
   "source": [
    "g) why are there sometimes conflicts between copied repos / branches? How do you resolve them?"
   ]
  },
  {
   "cell_type": "markdown",
   "metadata": {},
   "source": [
    "+ If you copy an earlier version of your repo and git push it git will get confused on where to put it and simply not allow it. one way to counter this is by creating more branches to push your work to, however this is more of a work around than a complete solution since you are pushing to a new branch not the same one. Yes one can argue that you can 'merge' branches however this takes time and can be painstakingly slow at times.\n",
    "\n",
    "+ Another way, this could happen is you are working on a group project and both you and your peer clone a repo and make changes to it, but your peer pushes before you, simply put it once you try to push your version after the peer git will not allow it since you are technically working an older version of the repo. One Counter to this both of you make forks of the repo, work on them individually and come up with a way to merge them\n",
    "\n"
   ]
  },
  {
   "cell_type": "markdown",
   "metadata": {},
   "source": [
    "h) describe all the steps needed to make a PR to contribute your notes to the class repository."
   ]
  },
  {
   "cell_type": "markdown",
   "metadata": {},
   "source": []
  },
  {
   "cell_type": "markdown",
   "metadata": {},
   "source": [
    "i) Write here some other commands we used in class and what they mean / how to use them:"
   ]
  },
  {
   "cell_type": "code",
   "execution_count": null,
   "metadata": {},
   "outputs": [],
   "source": [
    "git add <file> #Add files to be pushed\n",
    "git remove <file> # files to be removed from the current commit\n",
    "git commit # Commit files for them to be pushed\n",
    "git init #make the current directory into a repo directory\n",
    "git status # status of git repo\n",
    "git diff  # shows what has changed between the last commit and now\n",
    "git push # pushes to commit\n",
    "git switch #where we switch to another branch\n"
   ]
  },
  {
   "cell_type": "markdown",
   "metadata": {},
   "source": [
    "A bit more explanation:\n",
    "+ git add, adds the file to the current upstream, these are files you want to push to GitHub \n",
    "+ Alternatively if you changed your mind and want to work on a file a little bit more before you commit it then you can use git remove to remove the file from being commited\n",
    "+ git inint is a useful tool to initialize a folder or directory on your computer as a git repository, this way git will let you push and pull from that folder itself.\n",
    "+ git status tells you what files that you have made changes to need to be pushed and what files are in the commit\n",
    "+ git diff Shows what files are changed between now and when you git added them\n",
    "\n",
    "+ git push pushes the files to git hub, if you don't use git add and git commit before this then you will get a misleading message that says \"Everything up to date\"\n",
    "\n",
    "+ git swtich helps you switch to another branch in your repo\n",
    "\n"
   ]
  },
  {
   "attachments": {},
   "cell_type": "markdown",
   "metadata": {},
   "source": [
    "## Exercise\n",
    "\n",
    "a) Create a public repo on your github called \"polynomial\". Create a folder on your laptop called \"polynomial\" and initialize it as a git repo. Add a remote called \"origin\" pointing to the github repo you just created. Create a file called \"polynomial.py\" with the following code:\n",
    "\n",
    "```python\n",
    "class X:\n",
    "    def __init__(self):\n",
    "        pass\n",
    "\n",
    "    def __repr__(self):\n",
    "        return \"X\"\n",
    "\n",
    "class Int:\n",
    "    def __init__(self, i):\n",
    "        self.i = i\n",
    "    \n",
    "    def __repr__(self):\n",
    "        return str(self.i)\n",
    "\n",
    "class Add:\n",
    "    def __init__(self, p1, p2):\n",
    "        self.p1 = p1\n",
    "        self.p2 = p2\n",
    "    \n",
    "    def __repr__(self):\n",
    "        return repr(self.p1) + \" + \" + repr(self.p2)\n",
    "\n",
    "class Mul:\n",
    "    def __init__(self, p1, p2):\n",
    "        self.p1 = p1\n",
    "        self.p2 = p2\n",
    "    \n",
    "    def __repr__(self):\n",
    "        if isinstance(self.p1, Add):\n",
    "            if isinstance(self.p2, Add):\n",
    "                 return \"( \" + repr(self.p1) + \" ) * ( \" + repr(self.p2) + \" )\"\n",
    "            return \"( \" + repr(self.p1) + \" ) * \" + repr(self.p2)\n",
    "        if isinstance(self.p2, Add):\n",
    "            return repr(self.p1) + \" * ( \" + repr(self.p2) + \" )\"\n",
    "        return repr(self.p1) + \" * \" + repr(self.p2)\n",
    "\n",
    "\n",
    "poly = Add( Add( Int(4), Int(3)), Add( X(), Mul( Int(1), Add( Mul(X(), X()), Int(1)))))\n",
    "print(poly)\n",
    "```\n",
    "\n",
    "add and commit this file with the following message \"cs 506 exercise part a\". Push these changes to github.\n",
    "\n",
    "b) In this exercise, you will write code to define and evaluate polynomial expressions. You should write out polynomials yourself to test various use cases / edge cases. Using the code above as an example, write classes for:\n",
    "\n",
    "- division (called `Div`)\n",
    "- subtraction (called `Sub`)\n",
    "\n",
    "you may modify the `Mul` class if needed. Ensure that the rules of parentheses are properly encoded in your `repr` functions. When you're done with this part, add and commit the changes with the message \"cs 506 exercise part b\". If you need to modify the code from this exercise at a later time, you must use the interactive rebase so that all changes related to this section are in the relevant commit.\n",
    "\n",
    "c) Write an `evaluate` method to each class that can evaluate the polynomial for a given value of `X`.\n",
    "\n",
    "```python\n",
    "poly = Add( Add( Int(4), Int(3)), Add( X(), Mul( Int(1), Add( Mul(X(), X()), Int(1)))))\n",
    "print(poly.evaluate(-1))\n",
    "```\n",
    "\n",
    "When you're done with this part, add and commit the changes with the message \"cs 506 exercise part c\". If you need to modify the code from this exercise at a later time, you must use the interactive rebase so that all changes related to this section are in the relevant commit.\n",
    "\n",
    "d) Provide the link to this github repo below"
   ]
  },
  {
   "cell_type": "markdown",
   "metadata": {},
   "source": []
  },
  {
   "attachments": {},
   "cell_type": "markdown",
   "metadata": {},
   "source": [
    "## Exercise\n",
    "\n",
    "Fork the course repo. Clone that fork locally. Ensure there is a remote called origin pointing to your fork and add a remote called upstream pointing to the course repo. Create a new branch called \"worksheet_01\". Checkout this new branch. In the `student_notes` folder, create a new file called `<your_last_name>_<your_first_name>_worksheet_01.txt`. In this file, answer the following question:\n",
    "\n",
    "```\n",
    "A friend presents you with a coin they claim to be fair. You flip the coin 5 times and it lands on Heads every single time. You flip the coin another 5 times, same result. How many times must this happen for you to start doubting the fairness of the coin? Explain your reasoning a bit.\n",
    "```\n",
    "\n",
    "add and commit this change with the message \"contributing class notes\". Push the changes to the origin/worksheet_01 branch. Create a Pull Request against the course repo from this branch on github. Provide a link below to this PR.\n",
    "\n",
    "Go back to the main branch so you can repeat this process in future worksheets or when you want to add any class notes for extra credit."
   ]
  },
  {
   "cell_type": "markdown",
   "metadata": {},
   "source": []
  }
 ],
 "metadata": {
  "kernelspec": {
   "display_name": "Python 3",
   "language": "python",
   "name": "python3"
  },
  "language_info": {
   "name": "python",
   "version": "3.11.1"
  },
  "orig_nbformat": 4,
  "vscode": {
   "interpreter": {
    "hash": "e7370f93d1d0cde622a1f8e1c04877d8463912d04d973331ad4851f04de6915a"
   }
  }
 },
 "nbformat": 4,
 "nbformat_minor": 2
}
